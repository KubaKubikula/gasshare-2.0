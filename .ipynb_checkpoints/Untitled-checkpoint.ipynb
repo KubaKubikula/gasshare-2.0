{
 "cells": [
  {
   "cell_type": "code",
   "execution_count": 1,
   "id": "41a5616e-75ea-4b76-9647-084fd05e38a1",
   "metadata": {},
   "outputs": [],
   "source": [
    "import numpy as np"
   ]
  },
  {
   "cell_type": "code",
   "execution_count": 5,
   "id": "64d79eb0-0f6b-4915-979c-387f7078fd3e",
   "metadata": {},
   "outputs": [],
   "source": [
    "class Smajlik:\n",
    "    def __init__(self,left,top,right,bottom):\n",
    "        self.left = left\n",
    "        self.top = top\n",
    "        self.right = right\n",
    "        self.bottom = bottom\n",
    "\n",
    "    def turn_left():\n",
    "        top = self.top\n",
    "        bottom = self.bottom\n",
    "        left = self.left\n",
    "        right = self.right\n",
    "        \n",
    "        self.left = top\n",
    "        self.top = right\n",
    "        self.bottom = left\n",
    "        self.right = bottom   "
   ]
  },
  {
   "cell_type": "code",
   "execution_count": 6,
   "id": "7cbaf084-9423-417b-9082-3e6456cbcdd3",
   "metadata": {},
   "outputs": [],
   "source": [
    "# cervena pusa 1 cervene oci 2\n",
    "# zluta 3 4\n",
    "# zelena 5 6\n",
    "# modra 7 8\n",
    "smajlik1 = Smajlik(left=6,top=1,right=3,bottom=2)\n",
    "smajlik2 = Smajlik(left=5,top=8,right=4,bottom=7)\n",
    "smajlik3 = Smajlik(left=3,top=2,right=4,bottom=7)\n",
    "\n",
    "smajlik4 = Smajlik(left=1,top=1,right=8,bottom=6)\n",
    "smajlik5 = Smajlik(left=3,top=8,right=6,bottom=1)\n",
    "smajlik6 = Smajlik(left=6,top=7,right=3,bottom=2)\n",
    "\n",
    "smajlik7 = Smajlik(left=8,top=7,right=5,bottom=4)\n",
    "smajlik8 = Smajlik(left=4,top=8,right=1,bottom=7)\n",
    "smajlik9 = Smajlik(left=6,top=4,right=1,bottom=5)"
   ]
  },
  {
   "cell_type": "code",
   "execution_count": 8,
   "id": "e674eaaa-0d9d-4642-967c-de58ea33c49b",
   "metadata": {},
   "outputs": [],
   "source": [
    "pole = np.array([[smajlik1, smajlik2, smajlik3],[smajlik4, smajlik5, smajlik6],[smajlik7, smajlik8, smajlik9]])"
   ]
  },
  {
   "cell_type": "code",
   "execution_count": 12,
   "id": "2f9698e1-fc83-45e4-a578-a43d038f19e7",
   "metadata": {},
   "outputs": [],
   "source": [
    "def print_matrix(pole):\n",
    "   for row in pole:\n",
    "        for smajlik in row:\n",
    "            print(smajlik.__dict__)"
   ]
  },
  {
   "cell_type": "code",
   "execution_count": null,
   "id": "c468e485-cde7-4039-aa35-83f955e9a911",
   "metadata": {},
   "outputs": [],
   "source": [
    "def evaluate(pole)\n",
    "    \n",
    "            "
   ]
  },
  {
   "cell_type": "code",
   "execution_count": 13,
   "id": "dfb24669-6227-4570-95ce-ec555845edf1",
   "metadata": {},
   "outputs": [
    {
     "name": "stdout",
     "output_type": "stream",
     "text": [
      "{'left': 6, 'top': 1, 'right': 3, 'bottom': 2}\n",
      "{'left': 5, 'top': 8, 'right': 4, 'bottom': 7}\n",
      "{'left': 3, 'top': 2, 'right': 4, 'bottom': 7}\n",
      "{'left': 1, 'top': 1, 'right': 8, 'bottom': 6}\n",
      "{'left': 3, 'top': 8, 'right': 6, 'bottom': 1}\n",
      "{'left': 6, 'top': 7, 'right': 3, 'bottom': 2}\n",
      "{'left': 8, 'top': 7, 'right': 5, 'bottom': 4}\n",
      "{'left': 4, 'top': 8, 'right': 1, 'bottom': 7}\n",
      "{'left': 6, 'top': 4, 'right': 1, 'bottom': 5}\n"
     ]
    }
   ],
   "source": [
    "print_matrix(pole)"
   ]
  }
 ],
 "metadata": {
  "kernelspec": {
   "display_name": "Python 3 (ipykernel)",
   "language": "python",
   "name": "python3"
  },
  "language_info": {
   "codemirror_mode": {
    "name": "ipython",
    "version": 3
   },
   "file_extension": ".py",
   "mimetype": "text/x-python",
   "name": "python",
   "nbconvert_exporter": "python",
   "pygments_lexer": "ipython3",
   "version": "3.8.5"
  }
 },
 "nbformat": 4,
 "nbformat_minor": 5
}
